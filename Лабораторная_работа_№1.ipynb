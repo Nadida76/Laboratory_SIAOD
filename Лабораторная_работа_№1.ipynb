{
 "cells": [
  {
   "cell_type": "markdown",
   "id": "fifteen-sailing",
   "metadata": {
    "id": "fifteen-sailing"
   },
   "source": [
    "# Лабораторная работа №1\n",
    "## Выполнил студент группы БФИ2201 Лопеш Сениксон Сандро\n"
   ]
  },
  {
   "cell_type": "markdown",
   "id": "particular-syndicate",
   "metadata": {
    "id": "particular-syndicate"
   },
   "source": [
    "### Оглавление\n",
    "1. [Задание 1](#Задание-№1)\n",
    "2. [Задание 2](#Задание-№2)\n",
    "3. [Задание 3](#Задание-№3)\n",
    "4. [Вывод](#Вывод)"
   ]
  },
  {
   "cell_type": "markdown",
   "id": "arctic-stocks",
   "metadata": {
    "id": "arctic-stocks"
   },
   "source": [
    "### Задание №1\n",
    "<i> Вызвать функцию print() и передать туда строку Hello, World! </i>"
   ]
  },
  {
   "cell_type": "code",
   "execution_count": 1,
   "id": "caring-truck",
   "metadata": {
    "id": "caring-truck",
    "scrolled": true
   },
   "outputs": [
    {
     "name": "stdout",
     "output_type": "stream",
     "text": [
      "Hello, World!\n"
     ]
    }
   ],
   "source": [
    "print('Hello, World!')"
   ]
  },
  {
   "cell_type": "markdown",
   "id": "maritime-conversation",
   "metadata": {
    "id": "maritime-conversation"
   },
   "source": [
    "### Задание №2\n",
    "Написать генератор случайных матриц(многомерных), который принимает\n",
    "опциональные параметры <b>m</b>, <b>n</b>, <b>min_limit</b>, <b>max_limit</b>, где <b>m</b> и <b>n</b> указывают размер\n",
    "матрицы, а <b>min_lim</b> и <b>max_lim</b> - минимальное и максимальное значение для\n",
    "генерируемого числа."
   ]
  },
  {
   "cell_type": "code",
   "execution_count": 2,
   "id": "built-contact",
   "metadata": {
    "id": "built-contact"
   },
   "outputs": [],
   "source": [
    "import numpy as np\n",
    "\n",
    "def generate_random_matrix(user_m=3, user_n=3, user_min_limit=1, user_max_limit=10):\n",
    "    return np.random.randint(user_min_limit, user_max_limit, size=(user_n, user_m))"
   ]
  },
  {
   "cell_type": "code",
   "execution_count": 4,
   "id": "alert-charm",
   "metadata": {
    "id": "alert-charm",
    "outputId": "c95dd9e7-d076-4718-b6fb-25f2e6bc03b9"
   },
   "outputs": [
    {
     "name": "stdin",
     "output_type": "stream",
     "text": [
      "Digite o numero das colunas:  6\n",
      "digite o numero das linhas:  6\n",
      "Digite o numero minimo do array:  1\n",
      "Digite o numero maximo do array : 10\n"
     ]
    },
    {
     "name": "stdout",
     "output_type": "stream",
     "text": [
      "[[8 3 2 5 2 7]\n",
      " [3 1 8 2 2 8]\n",
      " [9 4 2 8 3 1]\n",
      " [8 6 2 1 8 5]\n",
      " [6 8 3 8 2 8]\n",
      " [9 7 6 1 3 3]]\n"
     ]
    }
   ],
   "source": [
    "user_m = int(input(\"Digite o numero das colunas: \"))\n",
    "user_n = int(input(\"digite o numero das linhas: \"))\n",
    "user_min_limit = int(input(\"Digite o numero minimo do array: \"))\n",
    "user_max_limit = int(input(\"Digite o numero maximo do array :\"))\n",
    "\n",
    "matrix = generate_random_matrix(user_m, user_n, user_min_limit, user_max_limit)\n",
    "print(matrix)"
   ]
  },
  {
   "cell_type": "markdown",
   "id": "catholic-roots",
   "metadata": {
    "id": "catholic-roots"
   },
   "source": [
    "### Задание №3\n",
    "Реализовать методы сортировки строк числовой матрицы в соответствии с\n",
    "заданием. Оценить время работы каждого алгоритма сортировки и сравнить его со\n",
    "временем стандартной функции сортировки. Испытания проводить на сгенерированных\n",
    "матрицах."
   ]
  },
  {
   "cell_type": "code",
   "execution_count": 5,
   "id": "cleared-anniversary",
   "metadata": {
    "id": "cleared-anniversary",
    "outputId": "b7c76c60-4acb-4c14-9bfb-d4f8d71093a1"
   },
   "outputs": [
    {
     "name": "stdin",
     "output_type": "stream",
     "text": [
      "Введите количество Элементы:  10\n",
      "Введите минимальный номер массива:  1\n",
      "Введите максимальное число в массиве : 10\n"
     ]
    },
    {
     "name": "stdout",
     "output_type": "stream",
     "text": [
      "оригинал массива\n",
      "[2 7 4 6 4 5 5 5 4 9]\n",
      "упорядоченный массив по Сортировка выбором\n",
      "[2 4 4 4 5 5 5 6 7 9]\n",
      "tempo 14000\n"
     ]
    }
   ],
   "source": [
    "# Сортировка выбором.\n",
    "import numpy as np\n",
    "import time\n",
    "start_time = time.time()\n",
    "def selection_sort(arr):\n",
    "    for i in range(0, len(arr) - 1):\n",
    "        smallest = i\n",
    "        for j in range(i + 1, len(arr)):\n",
    "            if arr[j] < arr[smallest]:\n",
    "                smallest = j\n",
    "        arr[i], arr[smallest] = arr[smallest], arr[i]\n",
    "    return arr\n",
    "\n",
    "# Пример использования:\n",
    "def generate_random_matrix(user_matrix_element, user_min_limit=1, user_max_limit=10):\n",
    "    return np.random.randint(user_min_limit, user_max_limit, size=(user_matrix_element))\n",
    "\n",
    "user_matrix_element = int(input(\"Введите количество Элементы: \"))\n",
    "user_min_limit = int(input(\"Введите минимальный номер массива: \"))\n",
    "user_max_limit = int(input(\"Введите максимальное число в массиве :\"))\n",
    "\n",
    "matrix = generate_random_matrix(user_matrix_element, user_min_limit, user_max_limit)\n",
    "print(\"оригинал массива\")\n",
    "print(matrix)\n",
    "\n",
    "print(\"упорядоченный массив по Сортировка выбором\")\n",
    "sorted_arr = selection_sort(matrix)\n",
    "print(sorted_arr)\n",
    "\n",
    "print(\"tempo {}\".format(round(time.time() - start_time)*1000))"
   ]
  },
  {
   "cell_type": "code",
   "execution_count": 6,
   "id": "roman-silly",
   "metadata": {
    "id": "roman-silly",
    "outputId": "84666b71-fb68-4c07-d27d-e716af29fcbb",
    "scrolled": true
   },
   "outputs": [
    {
     "name": "stdin",
     "output_type": "stream",
     "text": [
      "Введите количество Элементы:  20\n",
      "Введите минимальный номер массива:  1\n",
      "Введите максимальное число в массиве : 15\n"
     ]
    },
    {
     "name": "stdout",
     "output_type": "stream",
     "text": [
      "оригинал массива\n",
      "[ 9 10  5  3 11  9 13 10  9 11  3 11 14  9  6  7 14  8  1  7]\n",
      "упорядоченный массив по Сортировка вставкой\n",
      "[ 1  3  3  5  6  7  7  8  9  9  9  9 10 10 11 11 11 13 14 14]\n",
      "tempo 17000\n"
     ]
    }
   ],
   "source": [
    "# Сортировка вставкой.\n",
    "import numpy as np\n",
    "import time\n",
    "start_time = time.time()\n",
    "\n",
    "def insertion_sort(array):\n",
    "    n = len(array)\n",
    "    for i in range(1, n):\n",
    "        x = array[i]\n",
    "        j = i\n",
    "        while j > 0 and array[j - 1] > x:\n",
    "            array[j] = array[j - 1]\n",
    "            j -= 1\n",
    "        array[j] = x\n",
    "    return array\n",
    "\n",
    "# Пример использования:\n",
    "def generate_random_matrix(user_matrix_element, user_min_limit=1, user_max_limit=10):\n",
    "    return np.random.randint(user_min_limit, user_max_limit, size=(user_matrix_element))\n",
    "\n",
    "user_matrix_element = int(input(\"Введите количество Элементы: \"))\n",
    "user_min_limit = int(input(\"Введите минимальный номер массива: \"))\n",
    "user_max_limit = int(input(\"Введите максимальное число в массиве :\"))\n",
    "\n",
    "matrix = generate_random_matrix(user_matrix_element, user_min_limit, user_max_limit)\n",
    "print(\"оригинал массива\")\n",
    "print(matrix)\n",
    "\n",
    "print(\"упорядоченный массив по Сортировка вставкой\")\n",
    "sorted_array = insertion_sort(matrix)\n",
    "print(sorted_array)\n",
    "\n",
    "print(\"tempo {}\".format(round(time.time() - start_time)*1000))"
   ]
  },
  {
   "cell_type": "code",
   "execution_count": 7,
   "id": "vital-implementation",
   "metadata": {
    "id": "vital-implementation",
    "outputId": "7b648bf5-37a5-4d47-926d-b799f7a23be2"
   },
   "outputs": [
    {
     "name": "stdin",
     "output_type": "stream",
     "text": [
      "Введите количество Элементы:  10\n",
      "Введите минимальный номер массива:  20\n",
      "Введите максимальное число в массиве : 30\n"
     ]
    },
    {
     "name": "stdout",
     "output_type": "stream",
     "text": [
      "оригинал массива\n",
      "[25 22 21 25 22 24 21 26 26 28]\n",
      "упорядоченный массив по Сортировка обменом\n",
      "[21 21 22 22 24 25 25 26 26 28]\n",
      "tempo 13000\n"
     ]
    }
   ],
   "source": [
    "# Сортировка обменом. || Сортировка пузырьком.\n",
    "import numpy as np\n",
    "import time\n",
    "start_time = time.time()\n",
    "\n",
    "def bubble_sort(arr):\n",
    "    n = len(arr)\n",
    "    for i in range(n):\n",
    "        for j in range(0, n-i-1):\n",
    "            if arr[j] > arr[j+1]:\n",
    "                arr[j], arr[j+1] = arr[j+1], arr[j]\n",
    "    return arr\n",
    "\n",
    "def generate_random_matrix(user_matrix_element, user_min_limit=1, user_max_limit=10):\n",
    "    return np.random.randint(user_min_limit, user_max_limit, size=(user_matrix_element))\n",
    "\n",
    "user_matrix_element = int(input(\"Введите количество Элементы: \"))\n",
    "user_min_limit = int(input(\"Введите минимальный номер массива: \"))\n",
    "user_max_limit = int(input(\"Введите максимальное число в массиве :\"))\n",
    "\n",
    "matrix = generate_random_matrix(user_matrix_element, user_min_limit, user_max_limit)\n",
    "print(\"оригинал массива\")\n",
    "print(matrix)\n",
    "\n",
    "print(\"упорядоченный массив по Сортировка обменом\")\n",
    "sorted_array = bubble_sort(matrix)\n",
    "print(sorted_array)\n",
    "\n",
    "print(\"tempo {}\".format(round(time.time() - start_time)*1000))"
   ]
  },
  {
   "cell_type": "code",
   "execution_count": 8,
   "id": "veterinary-glory",
   "metadata": {
    "id": "veterinary-glory",
    "outputId": "9cc2a9ff-ec7a-43de-e4a8-47945d030986"
   },
   "outputs": [
    {
     "name": "stdin",
     "output_type": "stream",
     "text": [
      "Введите количество Элементы:  10\n",
      "Введите минимальный номер массива:  50\n",
      "Введите максимальное число в массиве : 80\n"
     ]
    },
    {
     "name": "stdout",
     "output_type": "stream",
     "text": [
      "оригинал массива\n",
      "[70 53 69 55 74 56 59 74 74 77]\n",
      "упорядоченный массив по Сортировка Шелла\n",
      "[53 55 56 59 69 70 74 74 74 77]\n",
      "tempo 17000\n"
     ]
    }
   ],
   "source": [
    "# Сортировка Шелла.\n",
    "import numpy as np\n",
    "import time\n",
    "start_time = time.time()\n",
    "\n",
    "def shellSort(data, length):\n",
    "    gap = length // 2\n",
    "    while gap > 0:\n",
    "        for iIndex in range(gap, length):\n",
    "            temp = data[iIndex]\n",
    "            jIndex = iIndex\n",
    "            while jIndex >= gap and data[jIndex - gap] > temp:\n",
    "                data[jIndex] = data[jIndex - gap]\n",
    "                jIndex -= gap\n",
    "            data[jIndex] = temp\n",
    "        gap //= 2\n",
    "    return data\n",
    "\n",
    "def generate_random_matrix(user_matrix_element, user_min_limit=1, user_max_limit=10):\n",
    "    return np.random.randint(user_min_limit, user_max_limit, size=(user_matrix_element))\n",
    "\n",
    "user_matrix_element = int(input(\"Введите количество Элементы: \"))\n",
    "user_min_limit = int(input(\"Введите минимальный номер массива: \"))\n",
    "user_max_limit = int(input(\"Введите максимальное число в массиве :\"))\n",
    "\n",
    "matrix = generate_random_matrix(user_matrix_element, user_min_limit, user_max_limit)\n",
    "print(\"оригинал массива\")\n",
    "print(matrix)\n",
    "\n",
    "print(\"упорядоченный массив по Сортировка Шелла\")\n",
    "sorted_array = shellSort(matrix, user_matrix_element)\n",
    "print(sorted_array)\n",
    "\n",
    "print(\"tempo {}\".format(round(time.time() - start_time)*1000))"
   ]
  },
  {
   "cell_type": "code",
   "execution_count": 9,
   "id": "correct-chaos",
   "metadata": {
    "id": "correct-chaos",
    "outputId": "f4d9aef1-8a2f-46a0-def0-4c9e049f5c77"
   },
   "outputs": [
    {
     "name": "stdin",
     "output_type": "stream",
     "text": [
      "Введите количество Элементы:  10\n",
      "Введите минимальный номер массива:  0\n",
      "Введите максимальное число в массиве : 20\n"
     ]
    },
    {
     "name": "stdout",
     "output_type": "stream",
     "text": [
      "Оригинал массива\n",
      "[ 7 13 11  9 10  2 12  0 11 18]\n",
      "\n",
      "Отсортированный массив по Быстрая сортировка\n",
      "[ 0  2  7  9 10 11 11 12 13 18]\n",
      "--- 9000 ms ---\n"
     ]
    }
   ],
   "source": [
    "# Быстрая сортировка.\n",
    "#import random\n",
    "import numpy as np\n",
    "import time\n",
    "start_time = time.time()\n",
    "\n",
    "def quicksort(nums, fst, lst):\n",
    "    if fst >= lst:\n",
    "        return\n",
    "    i, j = fst, lst\n",
    "    pivot = nums[np.random.randint(fst, lst)]\n",
    "    while i <= j:\n",
    "        while nums[i] < pivot:\n",
    "            i += 1\n",
    "        while nums[j] > pivot:\n",
    "            j -= 1\n",
    "        if i <= j:\n",
    "            nums[i], nums[j] = nums[j], nums[i]\n",
    "            i, j = i + 1, j - 1\n",
    "    quicksort(nums, fst, j)\n",
    "    quicksort(nums, i, lst)\n",
    "\n",
    "\n",
    "def generate_random_matrix(user_matrix_element, user_min_limit=1, user_max_limit=10):\n",
    "    return np.random.randint(user_min_limit, user_max_limit, size=(user_matrix_element))\n",
    "\n",
    "user_matrix_element = int(input(\"Введите количество Элементы: \"))\n",
    "user_min_limit = int(input(\"Введите минимальный номер массива: \"))\n",
    "user_max_limit = int(input(\"Введите максимальное число в массиве :\"))\n",
    "\n",
    "matrix = generate_random_matrix(user_matrix_element, user_min_limit, user_max_limit)\n",
    "print(\"Оригинал массива\")\n",
    "print(matrix)\n",
    "\n",
    "print(\"\\nОтсортированный массив по Быстрая сортировка\")\n",
    "sorted_array = quicksort(matrix, 0, len(matrix) - 1)\n",
    "print(matrix)\n",
    "\n",
    "print(\"--- {0} ms ---\".format(round(time.time() - start_time)*1000))\n",
    "\n",
    "    "
   ]
  },
  {
   "cell_type": "code",
   "execution_count": 10,
   "id": "french-czech",
   "metadata": {
    "colab": {
     "base_uri": "https://localhost:8080/",
     "height": 217
    },
    "executionInfo": {
     "elapsed": 433,
     "status": "error",
     "timestamp": 1645638345253,
     "user": {
      "displayName": "Sergey Simonov",
      "photoUrl": "https://lh3.googleusercontent.com/a-/AOh14GhQdeIfzzsg8bfb7DLHaLzEFH8Ebg2FyuaL9YoQyA=s64",
      "userId": "14094206399671235086"
     },
     "user_tz": -180
    },
    "id": "french-czech",
    "outputId": "7e38b779-8bbf-4955-c3ad-2a6be0ee386a"
   },
   "outputs": [
    {
     "name": "stdin",
     "output_type": "stream",
     "text": [
      "Введите количество Элементы:  15\n",
      "Введите минимальный номер массива:  0\n",
      "Введите максимальное число в массиве : 30\n"
     ]
    },
    {
     "name": "stdout",
     "output_type": "stream",
     "text": [
      "Оригинал массива\n",
      "[21 19 17 21  4 18 13  4 19 27  9 11  4 25  7]\n",
      "\n",
      "Отсортированный массив по Турнирная сортировка\n",
      "[4, 4, 4, 7, 9, 11, 13, 17, 18, 19, 19, 21, 21, 25, 27]\n",
      "--- 18000 ms ---\n"
     ]
    }
   ],
   "source": [
    "# Турнирная сортировка.\n",
    "import time\n",
    "import numpy as np\n",
    "start_time = time.time()\n",
    "\n",
    "def tournament_sort(arr):\n",
    "    if len(arr) <= 1:\n",
    "        return arr\n",
    "\n",
    "    mid = len(arr) // 2\n",
    "    left_half = arr[:mid]\n",
    "    right_half = arr[mid:]\n",
    "\n",
    "    left_half = tournament_sort(left_half)\n",
    "    right_half = tournament_sort(right_half)\n",
    "\n",
    "    return merge(left_half, right_half)\n",
    "\n",
    "def merge(left, right):\n",
    "    merged = []\n",
    "    left_index = 0\n",
    "    right_index = 0\n",
    "\n",
    "    while left_index < len(left) and right_index < len(right):\n",
    "        if left[left_index] < right[right_index]:\n",
    "            merged.append(left[left_index])\n",
    "            left_index += 1\n",
    "        else:\n",
    "            merged.append(right[right_index])\n",
    "            right_index += 1\n",
    "\n",
    "    while left_index < len(left):\n",
    "        merged.append(left[left_index])\n",
    "        left_index += 1\n",
    "\n",
    "    while right_index < len(right):\n",
    "        merged.append(right[right_index])\n",
    "        right_index += 1\n",
    "\n",
    "    return merged\n",
    "\n",
    "\n",
    "def generate_random_matrix(user_matrix_element, user_min_limit=1, user_max_limit=10):\n",
    "    return np.random.randint(user_min_limit, user_max_limit, size=(user_matrix_element))\n",
    "\n",
    "user_matrix_element = int(input(\"Введите количество Элементы: \"))\n",
    "user_min_limit = int(input(\"Введите минимальный номер массива: \"))\n",
    "user_max_limit = int(input(\"Введите максимальное число в массиве :\"))\n",
    "\n",
    "matrix = generate_random_matrix(user_matrix_element, user_min_limit, user_max_limit)\n",
    "print(\"Оригинал массива\")\n",
    "print(matrix)\n",
    "\n",
    "print(\"\\nОтсортированный массив по Турнирная сортировка\")\n",
    "sorted_array = tournament_sort(matrix)\n",
    "print(sorted_array)\n",
    "\n",
    "print(\"--- {0} ms ---\".format(round(time.time() - start_time)*1000))\n"
   ]
  },
  {
   "cell_type": "markdown",
   "id": "rental-jerusalem",
   "metadata": {
    "id": "rental-jerusalem"
   },
   "source": [
    "### Вывод\n"
   ]
  },
  {
   "cell_type": "markdown",
   "id": "9d108a0a",
   "metadata": {
    "id": "9d108a0a"
   },
   "source": []
  }
 ],
 "metadata": {
  "colab": {
   "provenance": []
  },
  "kernelspec": {
   "display_name": "Python 3 (ipykernel)",
   "language": "python",
   "name": "python3"
  },
  "language_info": {
   "codemirror_mode": {
    "name": "ipython",
    "version": 3
   },
   "file_extension": ".py",
   "mimetype": "text/x-python",
   "name": "python",
   "nbconvert_exporter": "python",
   "pygments_lexer": "ipython3",
   "version": "3.11.2"
  }
 },
 "nbformat": 4,
 "nbformat_minor": 5
}
